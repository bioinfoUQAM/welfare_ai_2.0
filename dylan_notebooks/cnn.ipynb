{
 "cells": [
  {
   "cell_type": "code",
   "execution_count": 16,
   "source": [
    "###############\r\n",
    "### Imports ###\r\n",
    "###############\r\n",
    "import os\r\n",
    "import csv\r\n",
    "import random\r\n",
    "import warnings\r\n",
    "import numpy as np\r\n",
    "import pandas as pd\r\n",
    "import tensorflow as tf\r\n",
    "from keras.callbacks import * \r\n",
    "import matplotlib.pyplot as plt\r\n",
    "import tensorflow.keras.models as models \r\n",
    "from sklearn.metrics import classification_report\r\n",
    "from sklearn.model_selection import train_test_split\r\n",
    "from sklearn.metrics import ConfusionMatrixDisplay, confusion_matrix\r\n",
    "from tensorflow.keras.layers import Conv2D, Dropout, MaxPooling2D, Flatten, Dense"
   ],
   "outputs": [],
   "metadata": {}
  },
  {
   "cell_type": "code",
   "execution_count": 17,
   "source": [
    "###########################\r\n",
    "### Basic configuration ###\r\n",
    "###########################\r\n",
    "\r\n",
    "# Ignore warnings about deprecated features\r\n",
    "warnings.simplefilter(action = \"ignore\")\r\n",
    "\r\n",
    "# Check the number of available GPUs\r\n",
    "physical_devices = tf.config.experimental.list_physical_devices(\"GPU\")\r\n",
    "print(\"Number of GPUs Available:\", len(physical_devices))\r\n",
    "\r\n",
    "# Set if memory growth should be enabled for a PhysicalDevice\r\n",
    "if physical_devices: tf.config.experimental.set_memory_growth(physical_devices[0], True)"
   ],
   "outputs": [
    {
     "output_type": "stream",
     "name": "stdout",
     "text": [
      "Number of GPUs Available: 1\n"
     ]
    }
   ],
   "metadata": {}
  },
  {
   "cell_type": "code",
   "execution_count": 18,
   "source": [
    "############################################\r\n",
    "#### Generation of the score dictionary  ### \r\n",
    "############################################\r\n",
    "\r\n",
    "# Initialize the score dictionary\r\n",
    "scores = {}\r\n",
    "# Opening the score csv file\r\n",
    "with open(\"scores.csv\", mode = \"r\", encoding = \"utf-8-sig\") as file:\r\n",
    "  # Reading the csv file\r\n",
    "  scoreFile = csv.reader(file, delimiter = \";\")\r\n",
    "  # Save the contents of the CSV file\r\n",
    "  for lines in scoreFile: \r\n",
    "    id = lines[0]\r\n",
    "    score = lines[1]\r\n",
    "    scores[id] = score"
   ],
   "outputs": [],
   "metadata": {}
  },
  {
   "cell_type": "code",
   "execution_count": 19,
   "source": [
    "######################################################\r\n",
    "### Generation of the locomotion matrix dictionary ###\r\n",
    "######################################################\r\n",
    "\r\n",
    "# Get the list of locomotion data files \r\n",
    "listLocomotionData = os.listdir(\"Locomotion\")\r\n",
    "\r\n",
    "# Initialize the data dictionary\r\n",
    "data = {}\r\n",
    "# Get the list of sensor names\r\n",
    "sensor_names = pd.read_excel(\"Locomotion/\" + listLocomotionData[0]).columns\r\n",
    "\r\n",
    "# Iterate through the score dictionary\r\n",
    "for key, value in scores.items(): \r\n",
    "  # Iterate through the list of locomotion data files \r\n",
    "  for locomotion in listLocomotionData: \r\n",
    "    if key in locomotion:\r\n",
    "      df = pd.read_excel (\"Locomotion/\" + locomotion)\r\n",
    "      df = df.dropna(how = \"all\")\r\n",
    "      df = df.fillna(0)\r\n",
    "      df = df.to_numpy()\r\n",
    "      data[key] = df"
   ],
   "outputs": [],
   "metadata": {}
  },
  {
   "cell_type": "code",
   "execution_count": 20,
   "source": [
    "######################################\r\n",
    "### Set dimensions of the matrices ###\r\n",
    "######################################\r\n",
    "\r\n",
    "# Initialize the number of rows and columns\r\n",
    "n_rows = []\r\n",
    "n_columns = 60\r\n",
    "\r\n",
    "# Iterate through the data dictionary\r\n",
    "for key, value in data.items(): \r\n",
    "  # Save the number of rows of the actual array\r\n",
    "  n_rows.append(value.shape[0])\r\n",
    "# Set the number of rows for all arrays with he minimal value\r\n",
    "n_rows = max(n_rows)\r\n",
    "# Print the number of rows and columns\r\n",
    "print(\"COLUMNS:\", n_columns, \"ROWS:\", n_rows)"
   ],
   "outputs": [
    {
     "output_type": "stream",
     "name": "stdout",
     "text": [
      "COLUMNS: 60 ROWS: 502\n"
     ]
    }
   ],
   "metadata": {}
  },
  {
   "cell_type": "code",
   "execution_count": 21,
   "source": [
    "#############################################################\r\n",
    "### Generation of matrices and imputation of missing data ###\r\n",
    "#############################################################\r\n",
    "\r\n",
    "# Initialize the feature matrix and the class vector\r\n",
    "X = []\r\n",
    "y = []\r\n",
    "\r\n",
    "# Iterate through the data dictionary\r\n",
    "for key, value in data.items():\r\n",
    "  \r\n",
    "  # Build the features matrix\r\n",
    "  if scores[key] == \"2\" or scores[key] == \"2,5\" or scores[key] == \"3\" or scores[key] == \"3,5\":\r\n",
    "    matrix = []\r\n",
    "    for i in range(n_columns):\r\n",
    "      sequence = []\r\n",
    "      for j in range(n_rows):\r\n",
    "        try: sequence.append(float(value[j][i]))\r\n",
    "        except:sequence.append(float(0))\r\n",
    "      sequence = np.array(sequence)\r\n",
    "      matrix.append(sequence)\r\n",
    "    matrix = np.array(matrix)\r\n",
    "    X.append(matrix)\r\n",
    "\r\n",
    "    # Save the classes\r\n",
    "    if scores[key] == \"2\": y.append(0)\r\n",
    "    elif scores[key] == \"2,5\":y.append(1)\r\n",
    "    elif scores[key] == \"3\":y.append(2)\r\n",
    "    elif scores[key] == \"3,5\" :y.append(3)\r\n",
    "    else: pass\r\n",
    "\r\n",
    "# Transform the matrix avec vector to numpy array\r\n",
    "X = np.array(X)\r\n",
    "y = np.array(y)"
   ],
   "outputs": [],
   "metadata": {}
  },
  {
   "cell_type": "code",
   "execution_count": 22,
   "source": [
    "#############################\r\n",
    "### Get data informations ###\r\n",
    "#############################\r\n",
    "n_instances = X.shape[0]\r\n",
    "n_features = X.shape[1]\r\n",
    "n_values = X.shape[2]\r\n",
    "print(\"Number of instances =\", n_instances, \r\n",
    "      \"\\nNumber of features per instance =\", n_features, \r\n",
    "      \"\\nNumber of values per feature =\", n_values)"
   ],
   "outputs": [
    {
     "output_type": "stream",
     "name": "stdout",
     "text": [
      "Number of instances = 74 \n",
      "Number of features per instance = 60 \n",
      "Number of values per feature = 502\n"
     ]
    }
   ],
   "metadata": {}
  },
  {
   "cell_type": "code",
   "execution_count": 23,
   "source": [
    "#####################################\r\n",
    "### Display the data informations ###\r\n",
    "#####################################\r\n",
    "print(\"Matrice =\", X.shape)\r\n",
    "print(\"Classes =\", set(y))\r\n",
    "print(\"Example of instance =\\n\", X[0])\r\n",
    "print(\"First value of the first feature of the first instance =\", X[0][0][0])\r\n",
    "print(\"Middle value of the middle feature of the middle instance =\", X[int(n_instances / 2)][int(n_features /2)][int(n_values /2)])\r\n",
    "print(\"Last value of the last feature of the last instance =\", X[n_instances - 1][n_features - 1][n_values - 1])"
   ],
   "outputs": [
    {
     "output_type": "stream",
     "name": "stdout",
     "text": [
      "Matrice = (74, 60, 502)\n",
      "Classes = {0, 1, 2, 3}\n",
      "Example of instance =\n",
      " [[0. 0. 0. ... 0. 0. 0.]\n",
      " [0. 0. 0. ... 0. 0. 0.]\n",
      " [0. 0. 0. ... 0. 0. 0.]\n",
      " ...\n",
      " [0. 0. 0. ... 0. 0. 0.]\n",
      " [0. 0. 0. ... 0. 0. 0.]\n",
      " [0. 0. 0. ... 0. 0. 0.]]\n",
      "First value of the first feature of the first instance = 0.0\n",
      "Middle value of the middle feature of the middle instance = 29.043\n",
      "Last value of the last feature of the last instance = 0.0\n"
     ]
    }
   ],
   "metadata": {
    "scrolled": true
   }
  },
  {
   "cell_type": "code",
   "execution_count": 24,
   "source": [
    "#################################\r\n",
    "### Perform data augmentation ###\r\n",
    "#################################\r\n",
    "\r\n",
    "# Initialize the feature matrix and the class vector for generated data\r\n",
    "X_Generated = []\r\n",
    "y_Generated = []\r\n",
    "\r\n",
    "# Set the variables\r\n",
    "variation_percentage = 5\r\n",
    "\r\n",
    "# Iterate through the instances of X\r\n",
    "for i, x in enumerate(X):\r\n",
    "    \r\n",
    "    # Set the number of instance to generate balanced dataset\r\n",
    "    if y[i] == 0: n_generated_instances = 125\r\n",
    "    if y[i] == 1: n_generated_instances = 84\r\n",
    "    if y[i] == 2: n_generated_instances = 132\r\n",
    "    if y[i] == 3: n_generated_instances = 500\r\n",
    "    \r\n",
    "    # Iterate through the inumber of instances to generate\r\n",
    "    for j in range(int(n_generated_instances)):\r\n",
    "        # Initialize the vector to save the new matrix\r\n",
    "        x_Generated = []\r\n",
    "        # Iterate through the row of the actual instance\r\n",
    "        for row in x:\r\n",
    "            # Initialize the vector to save the new row\r\n",
    "            x_Generated_Row = []\r\n",
    "            # Iterate through the value of the actual row\r\n",
    "            for value in row:\r\n",
    "                # Generate random variation for the instance\r\n",
    "                random_number = random.random()  * variation_percentage / 100\r\n",
    "                # Generate boolen to add or remove the variation\r\n",
    "                boolean = random.randint(0 , 1)\r\n",
    "                # Save value adding variation\r\n",
    "                if boolean == 0: x_Generated_Row.append(value + value * random_number)\r\n",
    "                # Save value removing variation\r\n",
    "                else: x_Generated_Row.append(value - value * random_number)\r\n",
    "            # Convert the row vector to numpy array\r\n",
    "            x_Generated_Row = np.array(x_Generated_Row)\r\n",
    "            # Save the row vector\r\n",
    "            x_Generated.append(x_Generated_Row)\r\n",
    "        # Convert the matrix vector to numpy matrix\r\n",
    "        x_Generated = np.array(x_Generated)\r\n",
    "        # Save the generated matrix\r\n",
    "        X_Generated.append(x_Generated)\r\n",
    "        # Save the associated classes\r\n",
    "        y_Generated.append(y[i])\r\n",
    "\r\n",
    "# Transform the matrix avec vector to numpy array\r\n",
    "X_Generated = np.array(X_Generated)\r\n",
    "y_Generated = np.array(y_Generated)"
   ],
   "outputs": [],
   "metadata": {}
  },
  {
   "cell_type": "code",
   "execution_count": 25,
   "source": [
    "#####################################\r\n",
    "### Display the data informations ###\r\n",
    "#####################################\r\n",
    "print(\"Matrice:\", X_Generated.shape)\r\n",
    "print(\"Classes:\", set(y_Generated))\r\n",
    "print(\"Number of targets: \", y_Generated.shape)\r\n",
    "print(\"Example of instance:\", X_Generated[0])\r\n",
    "print(\"Example of shape of instance:\", X_Generated[0].shape)"
   ],
   "outputs": [
    {
     "output_type": "stream",
     "name": "stdout",
     "text": [
      "Matrice: (10028, 60, 502)\n",
      "Classes: {0, 1, 2, 3}\n",
      "Number of targets:  (10028,)\n",
      "Example of instance: [[0. 0. 0. ... 0. 0. 0.]\n",
      " [0. 0. 0. ... 0. 0. 0.]\n",
      " [0. 0. 0. ... 0. 0. 0.]\n",
      " ...\n",
      " [0. 0. 0. ... 0. 0. 0.]\n",
      " [0. 0. 0. ... 0. 0. 0.]\n",
      " [0. 0. 0. ... 0. 0. 0.]]\n",
      "Example of shape of instance: (60, 502)\n"
     ]
    }
   ],
   "metadata": {}
  },
  {
   "cell_type": "code",
   "execution_count": 26,
   "source": [
    "#################################\r\n",
    "### Generate Train/Test Split ###\r\n",
    "#################################\r\n",
    "X_train, X_test, y_train, y_test = train_test_split(X_Generated, y_Generated, test_size = 0.20, random_state = 42)\r\n",
    "X_train = X_train.reshape((len(X_train), n_columns, n_rows, 1))\r\n",
    "X_test = X_test.reshape((len(X_test), n_columns, n_rows, 1))\r\n",
    "print(\"X_train shape =\", X_train.shape)\r\n",
    "print(\"X_test shape =\", X_test.shape)"
   ],
   "outputs": [
    {
     "output_type": "stream",
     "name": "stdout",
     "text": [
      "X_train shape = (8022, 60, 502, 1)\n",
      "X_test shape = (2006, 60, 502, 1)\n"
     ]
    }
   ],
   "metadata": {}
  },
  {
   "cell_type": "code",
   "execution_count": 27,
   "source": [
    "#################\r\n",
    "### CNN Model ###\r\n",
    "#################\r\n",
    "\r\n",
    "# Build the CNN \r\n",
    "model = models.Sequential()\r\n",
    "model.add(Conv2D(16, (3, 3), activation='relu', input_shape=(n_columns, n_rows, 1)))\r\n",
    "model.add(MaxPooling2D((2, 2)))\r\n",
    "model.add(Dropout(0.25))\r\n",
    "model.add(Conv2D(32, (3, 3), activation='relu', input_shape=(n_columns, n_rows, 1)))\r\n",
    "model.add(MaxPooling2D((2, 2)))\r\n",
    "model.add(Dropout(0.25))\r\n",
    "model.add(Conv2D(16, (3, 3), activation='relu', input_shape=(n_columns, n_rows, 1)))\r\n",
    "model.add(MaxPooling2D((2, 2)))\r\n",
    "model.add(Dropout(0.25))\r\n",
    "model.add(Flatten())\r\n",
    "model.add(Dense(32, activation =\"relu\"))\r\n",
    "model.add(Dense(4, activation=\"softmax\"))\r\n",
    "model.summary()\r\n",
    "\r\n",
    "# Compile the model \r\n",
    "model .compile(optimizer=\"rmsprop\", loss=\"sparse_categorical_crossentropy\", metrics =[\"accuracy\"])\r\n",
    "\r\n",
    "# Fit the model\r\n",
    "history = model.fit(x = X_train, y = y_train, validation_split = 0.10, epochs = 10, shuffle = True, verbose = 1)\r\n",
    "\r\n",
    "# Plot the history\r\n",
    "plt.plot(history.history['accuracy'])\r\n",
    "plt.plot(history.history['val_accuracy'])\r\n",
    "plt.title('Model train vs validation loss')\r\n",
    "plt.ylabel('accuracy')\r\n",
    "plt.xlabel('epoch')\r\n",
    "plt.legend(['train', 'validation'], loc = 'upper left')\r\n",
    "plt.show()"
   ],
   "outputs": [
    {
     "output_type": "stream",
     "name": "stdout",
     "text": [
      "Model: \"sequential_1\"\n",
      "_________________________________________________________________\n",
      "Layer (type)                 Output Shape              Param #   \n",
      "=================================================================\n",
      "conv2d_3 (Conv2D)            (None, 58, 500, 16)       160       \n",
      "_________________________________________________________________\n",
      "max_pooling2d_3 (MaxPooling2 (None, 29, 250, 16)       0         \n",
      "_________________________________________________________________\n",
      "dropout_3 (Dropout)          (None, 29, 250, 16)       0         \n",
      "_________________________________________________________________\n",
      "conv2d_4 (Conv2D)            (None, 27, 248, 32)       4640      \n",
      "_________________________________________________________________\n",
      "max_pooling2d_4 (MaxPooling2 (None, 13, 124, 32)       0         \n",
      "_________________________________________________________________\n",
      "dropout_4 (Dropout)          (None, 13, 124, 32)       0         \n",
      "_________________________________________________________________\n",
      "conv2d_5 (Conv2D)            (None, 11, 122, 16)       4624      \n",
      "_________________________________________________________________\n",
      "max_pooling2d_5 (MaxPooling2 (None, 5, 61, 16)         0         \n",
      "_________________________________________________________________\n",
      "dropout_5 (Dropout)          (None, 5, 61, 16)         0         \n",
      "_________________________________________________________________\n",
      "flatten_1 (Flatten)          (None, 4880)              0         \n",
      "_________________________________________________________________\n",
      "dense_2 (Dense)              (None, 32)                156192    \n",
      "_________________________________________________________________\n",
      "dense_3 (Dense)              (None, 4)                 132       \n",
      "=================================================================\n",
      "Total params: 165,748\n",
      "Trainable params: 165,748\n",
      "Non-trainable params: 0\n",
      "_________________________________________________________________\n",
      "Train on 7219 samples, validate on 803 samples\n",
      "Epoch 1/10\n",
      "7219/7219 [==============================] - 7s 908us/sample - loss: 5.1333 - accuracy: 0.2675 - val_loss: 1.3706 - val_accuracy: 0.2628\n",
      "Epoch 2/10\n",
      "7219/7219 [==============================] - 4s 604us/sample - loss: 1.3375 - accuracy: 0.3226 - val_loss: 1.1446 - val_accuracy: 0.4321\n",
      "Epoch 3/10\n",
      "7219/7219 [==============================] - 4s 589us/sample - loss: 0.8122 - accuracy: 0.6559 - val_loss: 0.0591 - val_accuracy: 1.0000\n",
      "Epoch 4/10\n",
      "7219/7219 [==============================] - 4s 597us/sample - loss: 0.0420 - accuracy: 0.9868 - val_loss: 3.0302e-05 - val_accuracy: 1.0000\n",
      "Epoch 5/10\n",
      "7219/7219 [==============================] - 4s 583us/sample - loss: 0.0078 - accuracy: 0.9986 - val_loss: 9.1491e-07 - val_accuracy: 1.0000\n",
      "Epoch 6/10\n",
      "7219/7219 [==============================] - 4s 595us/sample - loss: 0.0058 - accuracy: 0.9986 - val_loss: 4.6763e-08 - val_accuracy: 1.0000\n",
      "Epoch 7/10\n",
      "7219/7219 [==============================] - 5s 678us/sample - loss: 0.0091 - accuracy: 0.9997 - val_loss: 4.3052e-09 - val_accuracy: 1.0000\n",
      "Epoch 8/10\n",
      "7219/7219 [==============================] - 5s 638us/sample - loss: 4.1784e-05 - accuracy: 1.0000 - val_loss: 5.9382e-10 - val_accuracy: 1.0000\n",
      "Epoch 9/10\n",
      "7219/7219 [==============================] - 4s 585us/sample - loss: 2.8267e-05 - accuracy: 1.0000 - val_loss: 0.0000e+00 - val_accuracy: 1.0000\n",
      "Epoch 10/10\n",
      "7219/7219 [==============================] - 3s 454us/sample - loss: 5.5321e-05 - accuracy: 1.0000 - val_loss: 0.0000e+00 - val_accuracy: 1.0000\n"
     ]
    },
    {
     "output_type": "display_data",
     "data": {
      "image/png": "[encoded data removed]",
      "text/plain": [
       "<Figure size 432x288 with 1 Axes>"
      ]
     },
     "metadata": {
      "needs_background": "light"
     }
    }
   ],
   "metadata": {}
  },
  {
   "cell_type": "code",
   "execution_count": 28,
   "source": [
    "#######################\r\n",
    "### LSTM Model Test ###\r\n",
    "#######################\r\n",
    "\r\n",
    "# Predict test data\r\n",
    "y_pred = model.predict(x = X_test)\r\n",
    "\r\n",
    "# Convert to rounded prediction\r\n",
    "y_pred = np.argmax(y_pred, axis = -1)\r\n",
    "\r\n",
    "# Compute confusion matrix\r\n",
    "cm = confusion_matrix(y_true = y_test , y_pred=y_pred)\r\n",
    "\r\n",
    "# Set the labels\r\n",
    "target_names = ['0','1','2','3']\r\n",
    "\r\n",
    "# Plot the confusion matrix\r\n",
    "disp = ConfusionMatrixDisplay(confusion_matrix = cm, display_labels = target_names)\r\n",
    "disp = disp.plot()\r\n",
    "plt.show()\r\n",
    "\r\n",
    "# Display the classification report\r\n",
    "print(\"\\nClassification report:\\n\", classification_report(y_test, y_pred, target_names = target_names, digits = 3))"
   ],
   "outputs": [
    {
     "output_type": "display_data",
     "data": {
      "image/png": "[encoded data removed]",
      "text/plain": [
       "<Figure size 432x288 with 2 Axes>"
      ]
     },
     "metadata": {
      "needs_background": "light"
     }
    },
    {
     "output_type": "stream",
     "name": "stdout",
     "text": [
      "\n",
      "Classification report:\n",
      "               precision    recall  f1-score   support\n",
      "\n",
      "           0      1.000     1.000     1.000       524\n",
      "           1      1.000     1.000     1.000       507\n",
      "           2      1.000     1.000     1.000       523\n",
      "           3      1.000     1.000     1.000       452\n",
      "\n",
      "    accuracy                          1.000      2006\n",
      "   macro avg      1.000     1.000     1.000      2006\n",
      "weighted avg      1.000     1.000     1.000      2006\n",
      "\n"
     ]
    }
   ],
   "metadata": {}
  }
 ],
 "metadata": {
  "interpreter": {
   "hash": "0233f353920c16d2923bd58a39b232e6099f553d9e9646e45ab07e0c0ed942a3"
  },
  "kernelspec": {
   "name": "python3",
   "display_name": "Python 3.7.11 64-bit ('GPU': conda)"
  },
  "language_info": {
   "codemirror_mode": {
    "name": "ipython",
    "version": 3
   },
   "file_extension": ".py",
   "mimetype": "text/x-python",
   "name": "python",
   "nbconvert_exporter": "python",
   "pygments_lexer": "ipython3",
   "version": "3.7.11"
  }
 },
 "nbformat": 4,
 "nbformat_minor": 2
}
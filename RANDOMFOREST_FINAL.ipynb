{
 "cells": [
  {
   "cell_type": "code",
   "execution_count": 1,
   "metadata": {},
   "outputs": [
    {
     "name": "stderr",
     "output_type": "stream",
     "text": [
      "Using TensorFlow backend.\n"
     ]
    }
   ],
   "source": [
    "###############\n",
    "### Imports ###\n",
    "###############\n",
    "from datetime import datetime \n",
    "import os\n",
    "import csv\n",
    "import random\n",
    "import warnings\n",
    "import numpy as np\n",
    "import pandas as pd\n",
    "import tensorflow as tf\n",
    "from keras.callbacks import * \n",
    "import matplotlib.pyplot as plt\n",
    "import tensorflow.keras.models as models \n",
    "from sklearn.metrics import classification_report\n",
    "from sklearn.model_selection import train_test_split\n",
    "from sklearn.metrics import ConfusionMatrixDisplay, confusion_matrix\n",
    "from tensorflow.keras.layers import Conv2D, Dropout, AveragePooling2D, MaxPooling2D, Flatten, Dense, LSTM, BatchNormalization\n",
    "from tensorflow.keras import regularizers "
   ]
  },
  {
   "cell_type": "code",
   "execution_count": 2,
   "metadata": {},
   "outputs": [
    {
     "name": "stdout",
     "output_type": "stream",
     "text": [
      "Number of GPUs Available: 1\n"
     ]
    }
   ],
   "source": [
    "###########################http://localhost:8888/notebooks/Model/RANDOMFOREST_FINAL.ipynb#\n",
    "### Basic configuration ###\n",
    "###########################\n",
    "\n",
    "# Ignore warnings about deprecated features\n",
    "warnings.simplefilter(action = \"ignore\")\n",
    "\n",
    "# Check the number of available GPUs\n",
    "physical_devices = tf.config.experimental.list_physical_devices(\"GPU\")\n",
    "print(\"Number of GPUs Available:\", len(physical_devices))\n",
    "\n",
    "# Set if memory growth should be enabled for a PhysicalDevice\n",
    "if physical_devices: tf.config.experimental.set_memory_growth(physical_devices[0], True)"
   ]
  },
  {
   "cell_type": "code",
   "execution_count": 3,
   "metadata": {},
   "outputs": [],
   "source": [
    "############################################\n",
    "#### Generation of the score dictionary  ### \n",
    "############################################\n",
    "\n",
    "# Initialize the score dictionary\n",
    "scores = {}\n",
    "# Opening the score csv file\n",
    "with open(\"../scores.csv\", mode = \"r\", encoding = \"utf-8-sig\") as file:\n",
    "  # Reading the csv file\n",
    "  scoreFile = csv.reader(file, delimiter = \";\")\n",
    "  # Save the contents of the CSV file\n",
    "  for lines in scoreFile: \n",
    "    id = lines[0]\n",
    "    score = lines[1]\n",
    "    scores[id] = score"
   ]
  },
  {
   "cell_type": "code",
   "execution_count": 4,
   "metadata": {},
   "outputs": [],
   "source": [
    "######################################################\n",
    "### Generation of the locomotion matrix dictionary ###\n",
    "######################################################\n",
    "\n",
    "# Get the list of locomotion data files \n",
    "listLocomotionData = os.listdir(\"../Locomotion\")\n",
    "\n",
    "# Initialize the data dictionary\n",
    "data = {}\n",
    "# Get the list of sensor names\n",
    "sensor_names = pd.read_excel(\"../Locomotion/\" + listLocomotionData[0]).columns\n",
    "\n",
    "# Iterate through the score dictionary\n",
    "for key, value in scores.items(): \n",
    "  # Iterate through the list of locomotion data files \n",
    "  for locomotion in listLocomotionData: \n",
    "    if key in locomotion:\n",
    "      df = pd.read_excel (\"../Locomotion/\" + locomotion)\n",
    "      df = df.dropna(how = \"all\")\n",
    "      df = df.fillna(0)\n",
    "      df = df.to_numpy()\n",
    "      data[key] = df"
   ]
  },
  {
   "cell_type": "code",
   "execution_count": 5,
   "metadata": {},
   "outputs": [
    {
     "name": "stdout",
     "output_type": "stream",
     "text": [
      "COLUMNS: 60 ROWS: 502\n"
     ]
    }
   ],
   "source": [
    "######################################\n",
    "### Set dimensions of the matrices ###\n",
    "######################################\n",
    "\n",
    "# Initialize the number of rows and columns\n",
    "n_rows = []\n",
    "n_columns = 60\n",
    "\n",
    "# Iterate through the data dictionary\n",
    "for key, value in data.items(): \n",
    "  # Save the number of rows of the actual array\n",
    "  n_rows.append(value.shape[0])\n",
    "    \n",
    "# Set the number of rows for all arrays with the maximum number of rows available \n",
    "n_rows = max(n_rows)\n",
    "# Print the number of rows and columns\n",
    "print(\"COLUMNS:\", n_columns, \"ROWS:\", n_rows)"
   ]
  },
  {
   "cell_type": "code",
   "execution_count": 6,
   "metadata": {},
   "outputs": [
    {
     "name": "stdout",
     "output_type": "stream",
     "text": [
      "Number of cows with class 2:  20\n",
      "Number of cows with class 2.5:  30\n",
      "Number of cows with class 3:  19\n",
      "Number of cows with class 3.5:  5\n"
     ]
    }
   ],
   "source": [
    "#############################################################\n",
    "### Generation of matrices and imputation of missing data ###\n",
    "#############################################################\n",
    "\n",
    "# Initialize the feature matrix and the class vector\n",
    "X = []\n",
    "y = []\n",
    "\n",
    "# Iterate through the data dictionary\n",
    "for key, value in data.items():\n",
    "  \n",
    "  # Build the features matrix\n",
    "  if scores[key] == \"2\" or scores[key] == \"2,5\" or scores[key] == \"3\" or scores[key] == \"3,5\":\n",
    "    matrix = []\n",
    "    for i in range(n_columns):\n",
    "      sequence = []\n",
    "      for j in range(n_rows):\n",
    "        try: sequence.append(float(value[j][i]))\n",
    "        except:sequence.append(float(0))\n",
    "      sequence = np.array(sequence)\n",
    "      matrix.append(sequence)\n",
    "    matrix = np.array(matrix)\n",
    "    X.append(matrix)\n",
    "\n",
    "    # Save the classes\n",
    "    if scores[key] == \"2\": y.append(0)\n",
    "    elif scores[key] == \"2,5\":y.append(1)\n",
    "    elif scores[key] == \"3\":y.append(2)\n",
    "    elif scores[key] == \"3,5\" :y.append(3)\n",
    "    else: pass\n",
    "\n",
    "# Print the distributions of the classes\n",
    "print(\"Number of cows with class 2: \", y.count(0))\n",
    "print(\"Number of cows with class 2.5: \", y.count(1))\n",
    "print(\"Number of cows with class 3: \", y.count(2))\n",
    "print(\"Number of cows with class 3.5: \", y.count(3))\n",
    "\n",
    "# Transform the matrix avec vector to numpy array\n",
    "X = np.array(X)\n",
    "y_array = np.array(y)"
   ]
  },
  {
   "cell_type": "code",
   "execution_count": 7,
   "metadata": {},
   "outputs": [
    {
     "name": "stdout",
     "output_type": "stream",
     "text": [
      "Number of instances = 74 \n",
      "Number of features per instance = 60 \n",
      "Number of values per feature = 502\n",
      " \n",
      "Matrice = (74, 60, 502)\n",
      "Classes = {0, 1, 2, 3}\n",
      "Example of instance =\n",
      " [[0. 0. 0. ... 0. 0. 0.]\n",
      " [0. 0. 0. ... 0. 0. 0.]\n",
      " [0. 0. 0. ... 0. 0. 0.]\n",
      " ...\n",
      " [0. 0. 0. ... 0. 0. 0.]\n",
      " [0. 0. 0. ... 0. 0. 0.]\n",
      " [0. 0. 0. ... 0. 0. 0.]]\n",
      "First value of the first feature of the first instance = 0.0\n",
      "Middle value of the middle feature of the middle instance = 29.043\n",
      "Last value of the last feature of the last instance = 0.0\n"
     ]
    }
   ],
   "source": [
    "#############################\n",
    "### Get data informations ###\n",
    "#############################\n",
    "\n",
    "n_instances = X.shape[0]\n",
    "n_features = X.shape[1]\n",
    "n_values = X.shape[2]\n",
    "print(\"Number of instances =\", n_instances, \n",
    "      \"\\nNumber of features per instance =\", n_features, \n",
    "      \"\\nNumber of values per feature =\", n_values)\n",
    "\n",
    "print(\" \")\n",
    "\n",
    "print(\"Matrice =\", X.shape)\n",
    "print(\"Classes =\", set(y))\n",
    "print(\"Example of instance =\\n\", X[0])\n",
    "print(\"First value of the first feature of the first instance =\", X[0][0][0])\n",
    "print(\"Middle value of the middle feature of the middle instance =\", X[int(n_instances / 2)][int(n_features /2)][int(n_values /2)])\n",
    "print(\"Last value of the last feature of the last instance =\", X[n_instances - 1][n_features - 1][n_values - 1])"
   ]
  },
  {
   "cell_type": "code",
   "execution_count": 8,
   "metadata": {
    "scrolled": true
   },
   "outputs": [
    {
     "name": "stdout",
     "output_type": "stream",
     "text": [
      "Length of training data:  55\n",
      "Length of validation data:  19\n"
     ]
    }
   ],
   "source": [
    "# construct the training and testing splits\n",
    "(X_train, X_test, y_train, y_test) = train_test_split(X, y_array, stratify = y_array, \n",
    "\ttest_size=0.25, shuffle = True)\n",
    "\n",
    "print(\"Length of training data: \", len(X_train))\n",
    "print(\"Length of validation data: \", len(X_test))"
   ]
  },
  {
   "cell_type": "code",
   "execution_count": 9,
   "metadata": {},
   "outputs": [
    {
     "name": "stdout",
     "output_type": "stream",
     "text": [
      "Time taken to perform data augmentation:  616.8316721916199\n"
     ]
    }
   ],
   "source": [
    "#################################\n",
    "### Perform data augmentation ###\n",
    "#################################\n",
    "\n",
    "import time\n",
    "start = time.time() # Data augmentation takes roughly 10 minutes\n",
    "\n",
    "## ONLY AUGMENT THE TRAINING DATA! \n",
    "\n",
    "# Initialize the feature matrix and the class vector for generated data\n",
    "X_Generated = []\n",
    "y_Generated = []\n",
    "\n",
    "# Set the variation percentage for random noise generation\n",
    "variation_percentage = 5\n",
    "\n",
    "# Iterate through the instances of X\n",
    "for i, x in enumerate(X_train):\n",
    "    \n",
    "    # Set the number of instance to generate balanced dataset (roughly ~2500 instances of each class)\n",
    "    if y_train[i] == 0: n_generated_instances = 2500 // (y_train == 0).sum()\n",
    "    if y_train[i] == 1: n_generated_instances = 2500 // (y_train == 1).sum()\n",
    "    if y_train[i] == 2: n_generated_instances = 2500 // (y_train == 2).sum()\n",
    "    if y_train[i] == 3: n_generated_instances = 2500 // (y_train == 3).sum()\n",
    "    \n",
    "    # Iterate through the inumber of instances to generate\n",
    "    for j in range(int(n_generated_instances)):\n",
    "        # Initialize the vector to save the new matrix\n",
    "        x_Generated = []\n",
    "        # Iterate through the row of the actual instance\n",
    "        for row in x:\n",
    "            # Initialize the vector to save the new row\n",
    "            x_Generated_Row = []\n",
    "            # Iterate through the value of the actual row\n",
    "            for value in row:\n",
    "                # Generate random variation for the instance\n",
    "                random_number = random.random()  * variation_percentage / 100\n",
    "                # Generate boolen to add or remove the variation\n",
    "                boolean = random.randint(0 , 1)\n",
    "                # Save value adding variation\n",
    "                if boolean == 0: x_Generated_Row.append(value + value * random_number)\n",
    "                # Save value removing variation\n",
    "                else: x_Generated_Row.append(value - value * random_number)\n",
    "            # Convert the row vector to numpy array\n",
    "            x_Generated_Row = np.array(x_Generated_Row)\n",
    "            # Save the row vector\n",
    "            x_Generated.append(x_Generated_Row)\n",
    "        # Convert the matrix vector to numpy matrix\n",
    "        x_Generated = np.array(x_Generated)\n",
    "        # Save the generated matrix\n",
    "        X_Generated.append(x_Generated)\n",
    "        # Save the associated classes\n",
    "        y_Generated.append(y_train[i])\n",
    "\n",
    "# Transform the matrix avec vector to numpy array\n",
    "X_Generated = np.array(X_Generated)\n",
    "y_Generated = np.array(y_Generated)\n",
    "\n",
    "end = time.time()\n",
    "print(\"Time taken to perform data augmentation: \", (end - start))"
   ]
  },
  {
   "cell_type": "code",
   "execution_count": 10,
   "metadata": {},
   "outputs": [
    {
     "data": {
      "text/plain": [
       "'\\nprint(\"Matrice:\", X_Generated.shape)\\nprint(\"Classes:\", set(y_Generated))\\nprint(\"Number of targets: \", y_Generated.shape)\\nprint(\"Example of instance:\", X_Generated[0])\\nprint(\"Example of shape of instance:\", X_Generated[0].shape)\\n'"
      ]
     },
     "execution_count": 10,
     "metadata": {},
     "output_type": "execute_result"
    }
   ],
   "source": [
    "#####################################\n",
    "### Display the data informations ###\n",
    "#####################################\n",
    "\n",
    "\"\"\"\n",
    "print(\"Matrice:\", X_Generated.shape)\n",
    "print(\"Classes:\", set(y_Generated))\n",
    "print(\"Number of targets: \", y_Generated.shape)\n",
    "print(\"Example of instance:\", X_Generated[0])\n",
    "print(\"Example of shape of instance:\", X_Generated[0].shape)\n",
    "\"\"\""
   ]
  },
  {
   "cell_type": "code",
   "execution_count": 11,
   "metadata": {},
   "outputs": [
    {
     "name": "stdout",
     "output_type": "stream",
     "text": [
      "X_train shape = (9968, 30120)\n",
      "X_test shape = (19, 30120)\n"
     ]
    }
   ],
   "source": [
    "#####################################\n",
    "### Reshape the data for training ###\n",
    "#####################################\n",
    "\n",
    "#X_Generated = X_train\n",
    "#y_Generated = y_train\n",
    "\n",
    "def flatten_vector(array):\n",
    "    flat_X = []\n",
    "    for i in range(array.shape[0]):\n",
    "        flattened = array[i].flatten()\n",
    "        flat_X.append(flattened)\n",
    "    return np.array(flat_X, dtype=\"float16\")\n",
    "\n",
    "X_Generated = flatten_vector(X_Generated)\n",
    "X_test = flatten_vector(X_test)\n",
    "\n",
    "print(\"X_train shape =\", X_Generated.shape)\n",
    "print(\"X_test shape =\", X_test.shape)"
   ]
  },
  {
   "cell_type": "code",
   "execution_count": 12,
   "metadata": {},
   "outputs": [],
   "source": [
    "from sklearn.manifold import TSNE\n",
    "from sklearn.decomposition import PCA\n",
    "from mpl_toolkits.mplot3d import Axes3D\n",
    "from sklearn.preprocessing import MinMaxScaler\n",
    "from sklearn.model_selection import StratifiedKFold\n",
    "from sklearn.metrics import classification_report\n",
    "from sklearn.model_selection import cross_val_predict\n",
    "from sklearn.ensemble import RandomForestClassifier\n",
    "from sklearn.model_selection import GridSearchCV\n",
    "from sklearn.ensemble import RandomForestRegressor\n",
    "import numpy as np"
   ]
  },
  {
   "cell_type": "code",
   "execution_count": 13,
   "metadata": {},
   "outputs": [
    {
     "name": "stdout",
     "output_type": "stream",
     "text": [
      "Time taken to finish fitting all models:  13.960999250411987\n"
     ]
    }
   ],
   "source": [
    "#################################\n",
    "### Random Forest Model Train ###\n",
    "#################################\n",
    "import time\n",
    "start = time.time() # Data augmentation takes roughly 10 minutes\n",
    "\n",
    "model = RandomForestClassifier(n_estimators = 100, criterion='gini', max_depth=None, bootstrap=True, n_jobs=-1,  random_state=42)\n",
    "model.fit(X_Generated, y_Generated)\n",
    "\n",
    "end = time.time()\n",
    "print(\"Time taken to finish fitting all models: \", (end - start))"
   ]
  },
  {
   "cell_type": "code",
   "execution_count": 14,
   "metadata": {},
   "outputs": [
    {
     "name": "stdout",
     "output_type": "stream",
     "text": [
      "[1 1 1 0 3 0 0 2 2 1 1 2 3 1 0 2 0 1 1]\n"
     ]
    }
   ],
   "source": [
    "######################################\n",
    "### Random Forest Model Prediction ###\n",
    "######################################\n",
    "target_names = [\"2\", \"2,5\", \"3\", \"3,5\"]\n",
    "predictions = model.predict(X_test)\n",
    "print(predictions)\n",
    "#predictions = np.argmax(predictions)\n",
    "true_labels = y_test\n",
    "\n",
    "cm = confusion_matrix(true_labels, predictions)"
   ]
  },
  {
   "cell_type": "raw",
   "metadata": {},
   "source": [
    "##################################\n",
    "### Random Forest After Grid Search ###\n",
    "##################################\n",
    "\n",
    "# train the classifier\n",
    "Best_RF_model = RandomForestClassifier(**parameters)\n",
    "Best_RF_model.fit(X_Generated, y_Generated)\n",
    "target_names = [\"2\", \"2,5\", \"3\", \"3,5\"]"
   ]
  },
  {
   "cell_type": "code",
   "execution_count": 15,
   "metadata": {},
   "outputs": [
    {
     "name": "stdout",
     "output_type": "stream",
     "text": [
      "Evalutating model:  WELFAREAI-RF-5%var-15Oct2021-16h10m25\n"
     ]
    }
   ],
   "source": [
    "# create a filename for the model and save it\n",
    "dateTimeObj = datetime.now().strftime(\"%d%b%Y-%Hh%Mm%S\")\n",
    "filename = \"WELFAREAI-RF-\"+str(variation_percentage)+\"%var-\"+str(dateTimeObj)\n",
    "\n",
    "print(\"Evalutating model: \", filename)"
   ]
  },
  {
   "cell_type": "code",
   "execution_count": 16,
   "metadata": {},
   "outputs": [
    {
     "name": "stdout",
     "output_type": "stream",
     "text": [
      "\n",
      "Classification report:\n",
      "               precision    recall  f1-score   support\n",
      "\n",
      "         2.0      0.600     0.600     0.600         5\n",
      "         2.5      0.375     0.375     0.375         8\n",
      "           3      0.000     0.000     0.000         5\n",
      "         3.5      0.000     0.000     0.000         1\n",
      "\n",
      "    accuracy                          0.316        19\n",
      "   macro avg      0.244     0.244     0.244        19\n",
      "weighted avg      0.316     0.316     0.316        19\n",
      "\n",
      " \n",
      "Confusion Matrix: \n",
      "\n"
     ]
    },
    {
     "data": {
      "image/png": "[encoded data removed]",
      "text/plain": [
       "<Figure size 432x288 with 2 Axes>"
      ]
     },
     "metadata": {
      "needs_background": "light"
     },
     "output_type": "display_data"
    }
   ],
   "source": [
    "# Set the labels\n",
    "target_names = ['2.0','2.5','3','3.5']\n",
    "\n",
    "# Display the classification report\n",
    "print(\"\\nClassification report:\\n\", classification_report(true_labels, predictions, target_names = target_names, digits = 3))\n",
    "\n",
    "print(\" \")\n",
    "print(\"Confusion Matrix: \\n\")\n",
    "# Compute confusion matrix\n",
    "\n",
    "# Plot the confusion matrix\n",
    "disp = ConfusionMatrixDisplay(confusion_matrix = cm, display_labels = target_names)\n",
    "disp = disp.plot()\n",
    "plt.savefig(filename+\"_confusion_matrix\", dpi=300)\n",
    "plt.show()\n"
   ]
  },
  {
   "cell_type": "raw",
   "metadata": {},
   "source": [
    "# Number of trees in random forest\n",
    "n_estimators = [int(x) for x in np.linspace(start = 1, stop = 100, num = 5)]\n",
    "# Number of features to consider at every split\n",
    "max_features = ['auto', 'sqrt']\n",
    "# Maximum number of levels in tree\n",
    "max_depth = [int(x) for x in np.linspace(10, 100, num = 10)]\n",
    "max_depth.append(None)\n",
    "# Minimum number of samples required to split a node\n",
    "min_samples_split = [2, 5, 10]\n",
    "# Minimum number of samples required at each leaf node\n",
    "min_samples_leaf = [1, 2, 4]\n",
    "# Method of selecting samples for training each tree\n",
    "bootstrap = [True, False]\n",
    "# Create the random grid\n",
    "random_grid = {'n_estimators': n_estimators,\n",
    "               'max_features': max_features,\n",
    "               'max_depth': max_depth,\n",
    "               'min_samples_split': min_samples_split,\n",
    "               'min_samples_leaf': min_samples_leaf,\n",
    "               'bootstrap': bootstrap}\n",
    "\n",
    "print(random_grid)"
   ]
  },
  {
   "cell_type": "raw",
   "metadata": {},
   "source": [
    "# Use the random grid to search for best hyperparameters\n",
    "# First create the base model to tune\n",
    "rf = RandomForestRegressor()\n",
    "\n",
    "# Random search of parameters, using 3 fold cross validation, \n",
    "# search across 100 different combinations, and use all available cores\n",
    "rf_random = GridSearchCV(estimator = rf, param_grid = random_grid, cv = 3, verbose=1, n_jobs = -1)\n",
    "\n",
    "print(rf_random)\n",
    "# Fit the random search model"
   ]
  },
  {
   "cell_type": "raw",
   "metadata": {},
   "source": [
    "import time\n",
    "start = time.time() # Data augmentation takes roughly 10 minutes\n",
    "\n",
    "# fit the model \n",
    "rf_random.fit(X_Generated, y_Generated)\n",
    "\n",
    "end = time.time()\n",
    "print(\"Time taken to finish fitting all models: \", (end - start))"
   ]
  },
  {
   "cell_type": "code",
   "execution_count": 17,
   "metadata": {},
   "outputs": [
    {
     "ename": "NameError",
     "evalue": "name 'rf_random' is not defined",
     "output_type": "error",
     "traceback": [
      "\u001b[1;31m---------------------------------------------------------------------------\u001b[0m",
      "\u001b[1;31mNameError\u001b[0m                                 Traceback (most recent call last)",
      "\u001b[1;32m~\\AppData\\Local\\Temp/ipykernel_16304/2964965443.py\u001b[0m in \u001b[0;36m<module>\u001b[1;34m\u001b[0m\n\u001b[1;32m----> 1\u001b[1;33m \u001b[0mparameters\u001b[0m \u001b[1;33m=\u001b[0m \u001b[0mrf_random\u001b[0m\u001b[1;33m.\u001b[0m\u001b[0mbest_params_\u001b[0m\u001b[1;33m\u001b[0m\u001b[1;33m\u001b[0m\u001b[0m\n\u001b[0m",
      "\u001b[1;31mNameError\u001b[0m: name 'rf_random' is not defined"
     ]
    }
   ],
   "source": [
    "parameters = rf_random.best_params_"
   ]
  },
  {
   "cell_type": "raw",
   "metadata": {},
   "source": [
    "###################################\n",
    "### Evaluate the model and plot the prediction results ###\n",
    "###################################\n",
    "\n",
    "from tensorflow.keras.models import load_model\n",
    "\n",
    "filepath = filename +\".h5\"\n",
    "model = load_model(filepath, compile=True)\n",
    "\n",
    "# show the confusion matrix \n",
    "from sklearn.metrics import confusion_matrix\n",
    "from sklearn.metrics import plot_confusion_matrix\n",
    "\n",
    "predictions = model.predict(X_test)\n",
    "predictions = np.argmax(predictions, axis=1)\n",
    "true_labels = y_test\n",
    "\n",
    "cm = confusion_matrix(true_labels, predictions)"
   ]
  },
  {
   "cell_type": "raw",
   "metadata": {
    "scrolled": true
   },
   "source": [
    "# Set the labels\n",
    "target_names = ['2.0','2.5','3','3.5']\n",
    "\n",
    "# Display the classification report\n",
    "print(\"\\nClassification report:\\n\", classification_report(true_labels, predictions, target_names = target_names, digits = 3))\n",
    "\n",
    "print(\" \")\n",
    "print(\"Confusion Matrix: \\n\")\n",
    "# Compute confusion matrix\n",
    "\n",
    "# Plot the confusion matrix\n",
    "disp = ConfusionMatrixDisplay(confusion_matrix = cm, display_labels = target_names)\n",
    "disp = disp.plot()\n",
    "plt.savefig(filename+\"_confusion_matrix\", dpi=300)\n",
    "plt.show()\n"
   ]
  },
  {
   "cell_type": "code",
   "execution_count": null,
   "metadata": {},
   "outputs": [],
   "source": [
    "    \"from keras.utils import plot_model\\n\",\n",
    "    \"plot_model(CNN_model,\\n\",\n",
    "    \"    to_file=\\\"CNN_model3.png\\\",\\n\",\n",
    "    \"    show_shapes=True,\\n\",\n",
    "    \"    show_layer_names=True,\\n\",\n",
    "    \"    rankdir=\\\"TB\\\",\\n\",\n",
    "    \"    expand_nested=False,\\n\",\n",
    "    \"    dpi=96,\\n\",\n",
    "    \")\""
   ]
  },
  {
   "cell_type": "raw",
   "metadata": {},
   "source": [
    "######################################\n",
    "### Random Forest Model Evaluation ###\n",
    "######################################\n",
    "import time\n",
    "start = time.time() # Data augmentation takes roughly 10 minutes\n",
    "\n",
    "stratifiedKFold = StratifiedKFold(n_splits = 3, random_state = 1, shuffle = True)\n",
    "y_pred = cross_val_predict(model, X_Generated, y_Generated, n_jobs = 5, cv = stratifiedKFold)\n",
    "print(\"\\nClassification report:\\n\", classification_report(y_Generated, y_pred, digits = 3))\n",
    "\n",
    "end = time.time()\n",
    "print(\"Time taken to finish fitting all models: \", (end - start))"
   ]
  }
 ],
 "metadata": {
  "interpreter": {
   "hash": "0233f353920c16d2923bd58a39b232e6099f553d9e9646e45ab07e0c0ed942a3"
  },
  "kernelspec": {
   "display_name": "Python 3.7 (tensorflow)",
   "language": "python",
   "name": "tensorflow"
  },
  "language_info": {
   "codemirror_mode": {
    "name": "ipython",
    "version": 3
   },
   "file_extension": ".py",
   "mimetype": "text/x-python",
   "name": "python",
   "nbconvert_exporter": "python",
   "pygments_lexer": "ipython3",
   "version": "3.7.11"
  }
 },
 "nbformat": 4,
 "nbformat_minor": 2
}

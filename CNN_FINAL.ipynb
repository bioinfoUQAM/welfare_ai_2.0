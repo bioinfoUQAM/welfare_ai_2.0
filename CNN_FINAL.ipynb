{
 "cells": [
  {
   "cell_type": "code",
   "execution_count": 1,
   "metadata": {},
   "outputs": [
    {
     "name": "stderr",
     "output_type": "stream",
     "text": [
      "Using TensorFlow backend.\n"
     ]
    }
   ],
   "source": [
    "###############\n",
    "### Imports ###\n",
    "###############\n",
    "from datetime import datetime \n",
    "import os\n",
    "import csv\n",
    "import random\n",
    "import warnings\n",
    "import numpy as np\n",
    "import pandas as pd\n",
    "import tensorflow as tf\n",
    "from keras.callbacks import * \n",
    "import matplotlib.pyplot as plt\n",
    "import tensorflow.keras.models as models \n",
    "from sklearn.metrics import classification_report\n",
    "from sklearn.model_selection import train_test_split\n",
    "from sklearn.metrics import ConfusionMatrixDisplay, confusion_matrix\n",
    "from tensorflow.keras.layers import Conv2D, Dropout, AveragePooling2D, MaxPooling2D, Flatten, Dense\n",
    "from tensorflow.keras import regularizers "
   ]
  },
  {
   "cell_type": "code",
   "execution_count": 2,
   "metadata": {},
   "outputs": [
    {
     "name": "stdout",
     "output_type": "stream",
     "text": [
      "Number of GPUs Available: 1\n"
     ]
    }
   ],
   "source": [
    "###########################\n",
    "### Basic configuration ###\n",
    "###########################\n",
    "\n",
    "# Ignore warnings about deprecated features\n",
    "warnings.simplefilter(action = \"ignore\")\n",
    "\n",
    "# Check the number of available GPUs\n",
    "physical_devices = tf.config.experimental.list_physical_devices(\"GPU\")\n",
    "print(\"Number of GPUs Available:\", len(physical_devices))\n",
    "\n",
    "# Set if memory growth should be enabled for a PhysicalDevice\n",
    "if physical_devices: tf.config.experimental.set_memory_growth(physical_devices[0], True)"
   ]
  },
  {
   "cell_type": "code",
   "execution_count": 3,
   "metadata": {},
   "outputs": [],
   "source": [
    "############################################\n",
    "#### Generation of the score dictionary  ### \n",
    "############################################\n",
    "\n",
    "# Initialize the score dictionary\n",
    "scores = {}\n",
    "# Opening the score csv file\n",
    "with open(\"../scores.csv\", mode = \"r\", encoding = \"utf-8-sig\") as file:\n",
    "  # Reading the csv file\n",
    "  scoreFile = csv.reader(file, delimiter = \";\")\n",
    "  # Save the contents of the CSV file\n",
    "  for lines in scoreFile: \n",
    "    id = lines[0]\n",
    "    score = lines[1]\n",
    "    scores[id] = score"
   ]
  },
  {
   "cell_type": "code",
   "execution_count": 4,
   "metadata": {},
   "outputs": [],
   "source": [
    "######################################################\n",
    "### Generation of the locomotion matrix dictionary ###\n",
    "######################################################\n",
    "\n",
    "# Get the list of locomotion data files \n",
    "listLocomotionData = os.listdir(\"../Locomotion\")\n",
    "\n",
    "# Initialize the data dictionary\n",
    "data = {}\n",
    "# Get the list of sensor names\n",
    "sensor_names = pd.read_excel(\"../Locomotion/\" + listLocomotionData[0]).columns\n",
    "\n",
    "# Iterate through the score dictionary\n",
    "for key, value in scores.items(): \n",
    "  # Iterate through the list of locomotion data files \n",
    "  for locomotion in listLocomotionData: \n",
    "    if key in locomotion:\n",
    "      df = pd.read_excel (\"../Locomotion/\" + locomotion)\n",
    "      df = df.dropna(how = \"all\")\n",
    "      df = df.fillna(0)\n",
    "      df = df.to_numpy()\n",
    "      data[key] = df"
   ]
  },
  {
   "cell_type": "code",
   "execution_count": 5,
   "metadata": {},
   "outputs": [
    {
     "name": "stdout",
     "output_type": "stream",
     "text": [
      "COLUMNS: 60 ROWS: 502\n"
     ]
    }
   ],
   "source": [
    "######################################\n",
    "### Set dimensions of the matrices ###\n",
    "######################################\n",
    "\n",
    "# Initialize the number of rows and columns\n",
    "n_rows = []\n",
    "n_columns = 60\n",
    "\n",
    "# Iterate through the data dictionary\n",
    "for key, value in data.items(): \n",
    "  # Save the number of rows of the actual array\n",
    "  n_rows.append(value.shape[0])\n",
    "    \n",
    "# Set the number of rows for all arrays with the maximum number of rows available \n",
    "n_rows = max(n_rows)\n",
    "# Print the number of rows and columns\n",
    "print(\"COLUMNS:\", n_columns, \"ROWS:\", n_rows)"
   ]
  },
  {
   "cell_type": "code",
   "execution_count": 6,
   "metadata": {},
   "outputs": [
    {
     "name": "stdout",
     "output_type": "stream",
     "text": [
      "Number of cows with class 2:  20\n",
      "Number of cows with class 2.5:  30\n",
      "Number of cows with class 3:  19\n",
      "Number of cows with class 3.5 5\n"
     ]
    }
   ],
   "source": [
    "#############################################################\n",
    "### Generation of matrices and imputation of missing data ###\n",
    "#############################################################\n",
    "\n",
    "# Initialize the feature matrix and the class vector\n",
    "X = []\n",
    "y = []\n",
    "\n",
    "# Iterate through the data dictionary\n",
    "for key, value in data.items():\n",
    "  \n",
    "  # Build the features matrix\n",
    "  if scores[key] == \"2\" or scores[key] == \"2,5\" or scores[key] == \"3\" or scores[key] == \"3,5\":\n",
    "    matrix = []\n",
    "    for i in range(n_columns):\n",
    "      sequence = []\n",
    "      for j in range(n_rows):\n",
    "        try: sequence.append(float(value[j][i]))\n",
    "        except:sequence.append(float(0))\n",
    "      sequence = np.array(sequence)\n",
    "      matrix.append(sequence)\n",
    "    matrix = np.array(matrix)\n",
    "    X.append(matrix)\n",
    "\n",
    "    # Save the classes\n",
    "    if scores[key] == \"2\": y.append(0)\n",
    "    elif scores[key] == \"2,5\":y.append(1)\n",
    "    elif scores[key] == \"3\":y.append(2)\n",
    "    elif scores[key] == \"3,5\" :y.append(3)\n",
    "    else: pass\n",
    "\n",
    "# Print the distributions of the classes\n",
    "print(\"Number of cows with class 2: \", y.count(0))\n",
    "print(\"Number of cows with class 2.5: \", y.count(1))\n",
    "print(\"Number of cows with class 3: \", y.count(2))\n",
    "print(\"Number of cows with class 3.5\", y.count(3))\n",
    "\n",
    "# Transform the matrix avec vector to numpy array\n",
    "X = np.array(X)\n",
    "y_array = np.array(y)"
   ]
  },
  {
   "cell_type": "code",
   "execution_count": 7,
   "metadata": {},
   "outputs": [
    {
     "name": "stdout",
     "output_type": "stream",
     "text": [
      "Number of instances = 74 \n",
      "Number of features per instance = 60 \n",
      "Number of values per feature = 502\n",
      " \n",
      "Matrice = (74, 60, 502)\n",
      "Classes = {0, 1, 2, 3}\n",
      "Example of instance =\n",
      " [[0. 0. 0. ... 0. 0. 0.]\n",
      " [0. 0. 0. ... 0. 0. 0.]\n",
      " [0. 0. 0. ... 0. 0. 0.]\n",
      " ...\n",
      " [0. 0. 0. ... 0. 0. 0.]\n",
      " [0. 0. 0. ... 0. 0. 0.]\n",
      " [0. 0. 0. ... 0. 0. 0.]]\n",
      "First value of the first feature of the first instance = 0.0\n",
      "Middle value of the middle feature of the middle instance = 29.043\n",
      "Last value of the last feature of the last instance = 0.0\n"
     ]
    }
   ],
   "source": [
    "#############################\n",
    "### Get data informations ###\n",
    "#############################\n",
    "\n",
    "n_instances = X.shape[0]\n",
    "n_features = X.shape[1]\n",
    "n_values = X.shape[2]\n",
    "print(\"Number of instances =\", n_instances, \n",
    "      \"\\nNumber of features per instance =\", n_features, \n",
    "      \"\\nNumber of values per feature =\", n_values)\n",
    "\n",
    "print(\" \")\n",
    "\n",
    "print(\"Matrice =\", X.shape)\n",
    "print(\"Classes =\", set(y))\n",
    "print(\"Example of instance =\\n\", X[0])\n",
    "print(\"First value of the first feature of the first instance =\", X[0][0][0])\n",
    "print(\"Middle value of the middle feature of the middle instance =\", X[int(n_instances / 2)][int(n_features /2)][int(n_values /2)])\n",
    "print(\"Last value of the last feature of the last instance =\", X[n_instances - 1][n_features - 1][n_values - 1])"
   ]
  },
  {
   "cell_type": "code",
   "execution_count": 8,
   "metadata": {},
   "outputs": [
    {
     "name": "stdout",
     "output_type": "stream",
     "text": [
      "Length of training data:  55\n",
      "Length of validation data:  19\n"
     ]
    }
   ],
   "source": [
    "# construct the training and testing splits\n",
    "(X_train, X_test, y_train, y_test) = train_test_split(X, y_array, stratify = y_array, \n",
    "\ttest_size=0.25, shuffle = True)\n",
    "\n",
    "print(\"Length of training data: \", len(X_train))\n",
    "print(\"Length of validation data: \", len(X_test))"
   ]
  },
  {
   "cell_type": "code",
   "execution_count": 9,
   "metadata": {},
   "outputs": [
    {
     "name": "stdout",
     "output_type": "stream",
     "text": [
      "Time taken to perform data augmentation:  650.6632640361786\n"
     ]
    }
   ],
   "source": [
    "#################################\n",
    "### Perform data augmentation ###\n",
    "#################################\n",
    "\n",
    "import time\n",
    "start = time.time() # Data augmentation takes roughly 10 minutes\n",
    "\n",
    "## ONLY AUGMENT THE TRAINING DATA! \n",
    "\n",
    "# Initialize the feature matrix and the class vector for generated data\n",
    "X_Generated = []\n",
    "y_Generated = []\n",
    "\n",
    "# Set the variation percentage for random noise generation\n",
    "variation_percentage = 5\n",
    "\n",
    "# Iterate through the instances of X\n",
    "for i, x in enumerate(X_train):\n",
    "    \n",
    "    # Set the number of instance to generate balanced dataset (roughly ~2500 instances of each class)\n",
    "    if y_train[i] == 0: n_generated_instances = 2500 // (y_train == 0).sum()\n",
    "    if y_train[i] == 1: n_generated_instances = 2500 // (y_train == 1).sum()\n",
    "    if y_train[i] == 2: n_generated_instances = 2500 // (y_train == 2).sum()\n",
    "    if y_train[i] == 3: n_generated_instances = 2500 // (y_train == 3).sum()\n",
    "    \n",
    "    # Iterate through the inumber of instances to generate\n",
    "    for j in range(int(n_generated_instances)):\n",
    "        # Initialize the vector to save the new matrix\n",
    "        x_Generated = []\n",
    "        # Iterate through the row of the actual instance\n",
    "        for row in x:\n",
    "            # Initialize the vector to save the new row\n",
    "            x_Generated_Row = []\n",
    "            # Iterate through the value of the actual row\n",
    "            for value in row:\n",
    "                # Generate random variation for the instance\n",
    "                random_number = random.random()  * variation_percentage / 100\n",
    "                # Generate boolen to add or remove the variation\n",
    "                boolean = random.randint(0 , 1)\n",
    "                # Save value adding variation\n",
    "                if boolean == 0: x_Generated_Row.append(value + value * random_number)\n",
    "                # Save value removing variation\n",
    "                else: x_Generated_Row.append(value - value * random_number)\n",
    "            # Convert the row vector to numpy array\n",
    "            x_Generated_Row = np.array(x_Generated_Row)\n",
    "            # Save the row vector\n",
    "            x_Generated.append(x_Generated_Row)\n",
    "        # Convert the matrix vector to numpy matrix\n",
    "        x_Generated = np.array(x_Generated)\n",
    "        # Save the generated matrix\n",
    "        X_Generated.append(x_Generated)\n",
    "        # Save the associated classes\n",
    "        y_Generated.append(y_train[i])\n",
    "\n",
    "# Transform the matrix avec vector to numpy array\n",
    "X_Generated = np.array(X_Generated)\n",
    "y_Generated = np.array(y_Generated)\n",
    "\n",
    "end = time.time()\n",
    "print(\"Time taken to perform data augmentation: \", (end - start))"
   ]
  },
  {
   "cell_type": "code",
   "execution_count": 10,
   "metadata": {},
   "outputs": [
    {
     "data": {
      "text/plain": [
       "'\\nprint(\"Matrice:\", X_Generated.shape)\\nprint(\"Classes:\", set(y_Generated))\\nprint(\"Number of targets: \", y_Generated.shape)\\nprint(\"Example of instance:\", X_Generated[0])\\nprint(\"Example of shape of instance:\", X_Generated[0].shape)\\n'"
      ]
     },
     "execution_count": 10,
     "metadata": {},
     "output_type": "execute_result"
    }
   ],
   "source": [
    "#####################################\n",
    "### Display the data informations ###\n",
    "#####################################\n",
    "\n",
    "\"\"\"\n",
    "print(\"Matrice:\", X_Generated.shape)\n",
    "print(\"Classes:\", set(y_Generated))\n",
    "print(\"Number of targets: \", y_Generated.shape)\n",
    "print(\"Example of instance:\", X_Generated[0])\n",
    "print(\"Example of shape of instance:\", X_Generated[0].shape)\n",
    "\"\"\""
   ]
  },
  {
   "cell_type": "code",
   "execution_count": 11,
   "metadata": {},
   "outputs": [
    {
     "name": "stdout",
     "output_type": "stream",
     "text": [
      "X_train shape = (9968, 60, 502, 1)\n",
      "X_test shape = (19, 60, 502, 1)\n"
     ]
    }
   ],
   "source": [
    "#####################################\n",
    "### Reshape the data for training ###\n",
    "#####################################\n",
    "\n",
    "X_Generated = X_Generated.reshape((len(X_Generated), n_columns, n_rows, 1))\n",
    "X_test = X_test.reshape((len(X_test), n_columns, n_rows, 1))\n",
    "print(\"X_train shape =\", X_Generated.shape)\n",
    "print(\"X_test shape =\", X_test.shape)"
   ]
  },
  {
   "cell_type": "code",
   "execution_count": 12,
   "metadata": {},
   "outputs": [
    {
     "name": "stdout",
     "output_type": "stream",
     "text": [
      "Model: \"sequential\"\n",
      "_________________________________________________________________\n",
      "Layer (type)                 Output Shape              Param #   \n",
      "=================================================================\n",
      "conv2d (Conv2D)              (None, 58, 500, 6)        60        \n",
      "_________________________________________________________________\n",
      "average_pooling2d (AveragePo (None, 29, 250, 6)        0         \n",
      "_________________________________________________________________\n",
      "dropout (Dropout)            (None, 29, 250, 6)        0         \n",
      "_________________________________________________________________\n",
      "conv2d_1 (Conv2D)            (None, 27, 248, 16)       880       \n",
      "_________________________________________________________________\n",
      "average_pooling2d_1 (Average (None, 13, 124, 16)       0         \n",
      "_________________________________________________________________\n",
      "dropout_1 (Dropout)          (None, 13, 124, 16)       0         \n",
      "_________________________________________________________________\n",
      "flatten (Flatten)            (None, 25792)             0         \n",
      "_________________________________________________________________\n",
      "dense (Dense)                (None, 120)               3095160   \n",
      "_________________________________________________________________\n",
      "dense_1 (Dense)              (None, 84)                10164     \n",
      "_________________________________________________________________\n",
      "dense_2 (Dense)              (None, 4)                 340       \n",
      "=================================================================\n",
      "Total params: 3,106,604\n",
      "Trainable params: 3,106,604\n",
      "Non-trainable params: 0\n",
      "_________________________________________________________________\n"
     ]
    }
   ],
   "source": [
    "#Build the LeNet \n",
    "\n",
    "CNN_model = models.Sequential()\n",
    "\n",
    "CNN_model.add(Conv2D(filters=6, kernel_size=(3, 3), activation='relu', input_shape=(n_columns, n_rows, 1)))\n",
    "CNN_model.add(AveragePooling2D())\n",
    "CNN_model.add(Dropout(0.50))\n",
    "\n",
    "CNN_model.add(Conv2D(filters=16, kernel_size=(3, 3), activation='relu'))\n",
    "CNN_model.add(AveragePooling2D())\n",
    "CNN_model.add(Dropout(0.50))\n",
    "\n",
    "CNN_model.add(Flatten())\n",
    "CNN_model.add(Dense(units=120, activation='relu'))\n",
    "CNN_model.add(Dense(units=84, activation='relu'))\n",
    "CNN_model.add(Dense(units=4, activation = 'softmax'))\n",
    "\n",
    "CNN_model.summary()"
   ]
  },
  {
   "cell_type": "code",
   "execution_count": 13,
   "metadata": {},
   "outputs": [],
   "source": [
    "# compile the model \n",
    "CNN_model.compile(optimizer=\"rmsprop\",\n",
    "              loss=\"sparse_categorical_crossentropy\",\n",
    "             metrics =[\"accuracy\"])"
   ]
  },
  {
   "cell_type": "code",
   "execution_count": 14,
   "metadata": {},
   "outputs": [
    {
     "name": "stdout",
     "output_type": "stream",
     "text": [
      "Evalutating model:  WELFAREAI-CNN-5%var-13Oct2021-10h17m51\n"
     ]
    }
   ],
   "source": [
    "# create a filename for the model and save it\n",
    "dateTimeObj = datetime.now().strftime(\"%d%b%Y-%Hh%Mm%S\")\n",
    "filename = \"WELFAREAI-CNN-\"+str(variation_percentage)+\"%var-\"+str(dateTimeObj)\n",
    "\n",
    "print(\"Evalutating model: \", filename)\n",
    "\n",
    "# create a directory for storing the logs and saving the model\n",
    "CNN_tensor = TensorBoard(log_dir='logs', histogram_freq=1, embeddings_freq=1, )\n",
    "csv_logger = CSVLogger(\"logs/\" + filename + \"_log.csv\", append=True, separator=';')\n",
    "LR_reducer = ReduceLROnPlateau(monitor = \"val_loss\", factor = 0.1, patience = 25)\n",
    "early_stopping = EarlyStopping(monitor=\"accuracy\", patience = 25)\n",
    "model_checkpoint = ModelCheckpoint(filepath=filename+\".h5\", monitor=\"val_loss\", save_best_only=True) "
   ]
  },
  {
   "cell_type": "code",
   "execution_count": 15,
   "metadata": {},
   "outputs": [
    {
     "name": "stdout",
     "output_type": "stream",
     "text": [
      "Train on 9968 samples, validate on 19 samples\n",
      "Epoch 1/100\n",
      "9968/9968 [==============================] - 11s 1ms/sample - loss: 2.9934 - accuracy: 0.8895 - val_loss: 10.9055 - val_accuracy: 0.3684\n",
      "Epoch 2/100\n",
      "9968/9968 [==============================] - 6s 576us/sample - loss: 0.0019 - accuracy: 0.9995 - val_loss: 19.0772 - val_accuracy: 0.4211\n",
      "Epoch 3/100\n",
      "9968/9968 [==============================] - 4s 436us/sample - loss: 1.6722e-05 - accuracy: 1.0000 - val_loss: 22.0032 - val_accuracy: 0.3684\n",
      "Epoch 4/100\n",
      "9968/9968 [==============================] - 4s 405us/sample - loss: 4.3574e-07 - accuracy: 1.0000 - val_loss: 26.2330 - val_accuracy: 0.4211\n",
      "Epoch 5/100\n",
      "9968/9968 [==============================] - 4s 434us/sample - loss: 1.1647e-06 - accuracy: 1.0000 - val_loss: 32.7030 - val_accuracy: 0.3158\n",
      "Epoch 6/100\n",
      "9968/9968 [==============================] - 4s 429us/sample - loss: 1.2557e-09 - accuracy: 1.0000 - val_loss: 39.2393 - val_accuracy: 0.3158\n",
      "Epoch 7/100\n",
      "9968/9968 [==============================] - 4s 435us/sample - loss: 9.5674e-11 - accuracy: 1.0000 - val_loss: 38.5518 - val_accuracy: 0.3158\n",
      "Epoch 8/100\n",
      "9968/9968 [==============================] - 4s 409us/sample - loss: 1.6969e-08 - accuracy: 1.0000 - val_loss: 40.5908 - val_accuracy: 0.3158\n",
      "Epoch 9/100\n",
      "9968/9968 [==============================] - 4s 408us/sample - loss: 2.6071e-09 - accuracy: 1.0000 - val_loss: 39.6407 - val_accuracy: 0.3158\n",
      "Epoch 10/100\n",
      "9968/9968 [==============================] - 4s 407us/sample - loss: 4.6641e-10 - accuracy: 1.0000 - val_loss: 24.9663 - val_accuracy: 0.4211\n",
      "Epoch 11/100\n",
      "9968/9968 [==============================] - 4s 413us/sample - loss: 3.4203e-09 - accuracy: 1.0000 - val_loss: 30.7117 - val_accuracy: 0.4211\n",
      "Epoch 12/100\n",
      "9968/9968 [==============================] - 4s 420us/sample - loss: 0.0000e+00 - accuracy: 1.0000 - val_loss: 30.7784 - val_accuracy: 0.4211\n",
      "Epoch 13/100\n",
      "9968/9968 [==============================] - 4s 418us/sample - loss: 0.0000e+00 - accuracy: 1.0000 - val_loss: 30.9274 - val_accuracy: 0.4211\n",
      "Epoch 14/100\n",
      "9968/9968 [==============================] - 4s 417us/sample - loss: 0.0000e+00 - accuracy: 1.0000 - val_loss: 31.0570 - val_accuracy: 0.4211\n",
      "Epoch 15/100\n",
      "9968/9968 [==============================] - 4s 419us/sample - loss: 0.0000e+00 - accuracy: 1.0000 - val_loss: 31.0889 - val_accuracy: 0.4211\n",
      "Epoch 16/100\n",
      "9968/9968 [==============================] - 4s 418us/sample - loss: 0.0000e+00 - accuracy: 1.0000 - val_loss: 31.0181 - val_accuracy: 0.4211\n",
      "Epoch 17/100\n",
      "9968/9968 [==============================] - 4s 422us/sample - loss: 2.3918e-11 - accuracy: 1.0000 - val_loss: 32.0849 - val_accuracy: 0.4211\n",
      "Epoch 18/100\n",
      "9968/9968 [==============================] - 4s 417us/sample - loss: 2.0331e-10 - accuracy: 1.0000 - val_loss: 37.5112 - val_accuracy: 0.3158\n",
      "Epoch 19/100\n",
      "9968/9968 [==============================] - 4s 417us/sample - loss: 6.4579e-10 - accuracy: 1.0000 - val_loss: 30.8574 - val_accuracy: 0.4211\n",
      "Epoch 20/100\n",
      "9968/9968 [==============================] - 4s 410us/sample - loss: 0.0000e+00 - accuracy: 1.0000 - val_loss: 30.8747 - val_accuracy: 0.4211\n",
      "Epoch 21/100\n",
      "9968/9968 [==============================] - 4s 421us/sample - loss: 0.0000e+00 - accuracy: 1.0000 - val_loss: 30.7793 - val_accuracy: 0.4211\n",
      "Epoch 22/100\n",
      "9968/9968 [==============================] - 4s 413us/sample - loss: 1.1959e-11 - accuracy: 1.0000 - val_loss: 30.2871 - val_accuracy: 0.4211\n",
      "Epoch 23/100\n",
      "9968/9968 [==============================] - 4s 416us/sample - loss: 7.9240e-04 - accuracy: 0.9999 - val_loss: 40.5022 - val_accuracy: 0.3158\n",
      "Epoch 24/100\n",
      "9968/9968 [==============================] - 4s 418us/sample - loss: 0.0000e+00 - accuracy: 1.0000 - val_loss: 40.4906 - val_accuracy: 0.3158\n",
      "Epoch 25/100\n",
      "9968/9968 [==============================] - 4s 419us/sample - loss: 5.9795e-09 - accuracy: 1.0000 - val_loss: 42.2535 - val_accuracy: 0.3684\n",
      "Epoch 26/100\n",
      "9968/9968 [==============================] - 4s 441us/sample - loss: 1.1973e-07 - accuracy: 1.0000 - val_loss: 45.7119 - val_accuracy: 0.3158\n",
      "Epoch 27/100\n",
      "9968/9968 [==============================] - 4s 421us/sample - loss: 1.0763e-10 - accuracy: 1.0000 - val_loss: 45.3338 - val_accuracy: 0.3158\n",
      "Epoch 28/100\n",
      "9968/9968 [==============================] - 4s 412us/sample - loss: 1.7806e-08 - accuracy: 1.0000 - val_loss: 43.9703 - val_accuracy: 0.3158\n"
     ]
    }
   ],
   "source": [
    "# Train the model \n",
    "history = CNN_model.fit(X_Generated, y_Generated,\n",
    "                        validation_data = (X_test, y_test),\n",
    "                        callbacks = [CNN_tensor, csv_logger, early_stopping, LR_reducer, model_checkpoint],\n",
    "                        epochs=100, \n",
    "                        batch_size=32)"
   ]
  },
  {
   "cell_type": "code",
   "execution_count": 16,
   "metadata": {},
   "outputs": [
    {
     "data": {
      "image/png": "[encoded data removed]",
      "text/plain": [
       "<Figure size 432x288 with 1 Axes>"
      ]
     },
     "metadata": {
      "needs_background": "light"
     },
     "output_type": "display_data"
    },
    {
     "data": {
      "image/png": "[encoded data removed]",
      "text/plain": [
       "<Figure size 432x288 with 1 Axes>"
      ]
     },
     "metadata": {
      "needs_background": "light"
     },
     "output_type": "display_data"
    }
   ],
   "source": [
    "# Plot the training results\n",
    "import matplotlib.pyplot as plt \n",
    "\n",
    "# Visualize the and accuracy loss during training\n",
    "history_dict = history.history\n",
    "\n",
    "training_loss = history_dict[\"loss\"]\n",
    "training_accuracy = history_dict[\"accuracy\"]\n",
    "\n",
    "validation_accuracy = history_dict[\"val_accuracy\"]\n",
    "validation_loss = history_dict[\"val_loss\"]\n",
    "\n",
    "epochs = range(1, len(training_loss)+1) \n",
    "\n",
    "# Plot the train/val accuracy\n",
    "plt.plot(epochs, training_accuracy, 'bo', label=\"Training Accuracy\")\n",
    "plt.plot(epochs, validation_accuracy, 'r', label=\" Validation Accuracy\")\n",
    "\n",
    "plt.title(\"CNN training accuracy\")\n",
    "plt.xlabel(\"Epochs\")\n",
    "plt.ylabel(\"Accuracy\")\n",
    "plt.legend()\n",
    "plt.savefig(filename+\"_accuracy\", dpi=300)\n",
    "plt.show()\n",
    "\n",
    "plt.figure()\n",
    "\n",
    "# Plot the train/val loss\n",
    "plt.plot(epochs, training_loss, 'bo', label=\"Training Loss\")\n",
    "plt.plot(epochs, validation_loss, 'r', label=\" Validation Loss\")\n",
    "\n",
    "plt.title(\"CNN training loss\")\n",
    "plt.xlabel(\"Epochs\")\n",
    "plt.ylabel(\"Loss\")\n",
    "plt.legend()\n",
    "plt.savefig(filename+\"_loss\", dpi=300)\n",
    "plt.show()"
   ]
  },
  {
   "cell_type": "code",
   "execution_count": 17,
   "metadata": {},
   "outputs": [],
   "source": [
    "###################################\n",
    "### Evaluate the model and plot the prediction results ###\n",
    "###################################\n",
    "\n",
    "# show the confusion matrix \n",
    "from sklearn.metrics import confusion_matrix\n",
    "from sklearn.metrics import plot_confusion_matrix\n",
    "\n",
    "predictions = CNN_model.predict(X_test)\n",
    "predictions = np.argmax(predictions, axis=1)\n",
    "true_labels = y_test\n",
    "\n",
    "cm = confusion_matrix(true_labels, predictions)"
   ]
  },
  {
   "cell_type": "code",
   "execution_count": 18,
   "metadata": {},
   "outputs": [
    {
     "name": "stdout",
     "output_type": "stream",
     "text": [
      "\n",
      "Classification report:\n",
      "               precision    recall  f1-score   support\n",
      "\n",
      "         2.0      0.444     0.800     0.571         5\n",
      "         2.5      0.400     0.250     0.308         8\n",
      "           3      0.000     0.000     0.000         5\n",
      "         3.5      0.000     0.000     0.000         1\n",
      "\n",
      "    accuracy                          0.316        19\n",
      "   macro avg      0.211     0.263     0.220        19\n",
      "weighted avg      0.285     0.316     0.280        19\n",
      "\n",
      " \n",
      "Confusion Matrix: \n",
      "\n"
     ]
    },
    {
     "data": {
      "image/png": "[encoded data removed]",
      "text/plain": [
       "<Figure size 432x288 with 2 Axes>"
      ]
     },
     "metadata": {
      "needs_background": "light"
     },
     "output_type": "display_data"
    }
   ],
   "source": [
    "# Set the labels\n",
    "target_names = ['2.0','2.5','3','3.5']\n",
    "\n",
    "# Display the classification report\n",
    "print(\"\\nClassification report:\\n\", classification_report(true_labels, predictions, target_names = target_names, digits = 3))\n",
    "\n",
    "print(\" \")\n",
    "print(\"Confusion Matrix: \\n\")\n",
    "# Compute confusion matrix\n",
    "\n",
    "# Plot the confusion matrix\n",
    "disp = ConfusionMatrixDisplay(confusion_matrix = cm, display_labels = target_names)\n",
    "disp = disp.plot()\n",
    "plt.savefig(filename+\"_confusion_matrix\", dpi=300)\n",
    "plt.show()\n"
   ]
  },
  {
   "cell_type": "code",
   "execution_count": 19,
   "metadata": {},
   "outputs": [
    {
     "data": {
      "text/plain": [
       "')'"
      ]
     },
     "execution_count": 19,
     "metadata": {},
     "output_type": "execute_result"
    }
   ],
   "source": [
    "    \"from keras.utils import plot_model\\n\",\n",
    "    \"plot_model(CNN_model,\\n\",\n",
    "    \"    to_file=\\\"CNN_model3.png\\\",\\n\",\n",
    "    \"    show_shapes=True,\\n\",\n",
    "    \"    show_layer_names=True,\\n\",\n",
    "    \"    rankdir=\\\"TB\\\",\\n\",\n",
    "    \"    expand_nested=False,\\n\",\n",
    "    \"    dpi=96,\\n\",\n",
    "    \")\""
   ]
  }
 ],
 "metadata": {
  "interpreter": {
   "hash": "0233f353920c16d2923bd58a39b232e6099f553d9e9646e45ab07e0c0ed942a3"
  },
  "kernelspec": {
   "display_name": "Python [conda env:.conda-tensorflow-gpu] *",
   "language": "python",
   "name": "conda-env-.conda-tensorflow-gpu-py"
  },
  "language_info": {
   "codemirror_mode": {
    "name": "ipython",
    "version": 3
   },
   "file_extension": ".py",
   "mimetype": "text/x-python",
   "name": "python",
   "nbconvert_exporter": "python",
   "pygments_lexer": "ipython3",
   "version": "3.7.11"
  }
 },
 "nbformat": 4,
 "nbformat_minor": 2
}
